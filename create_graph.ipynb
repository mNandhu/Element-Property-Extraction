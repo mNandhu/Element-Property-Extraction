{
 "cells": [
  {
   "metadata": {},
   "cell_type": "markdown",
   "source": "# Import Libraries",
   "id": "fa88875f35e3e129"
  },
  {
   "cell_type": "code",
   "id": "initial_id",
   "metadata": {
    "collapsed": true,
    "ExecuteTime": {
     "end_time": "2024-10-09T06:52:47.134414Z",
     "start_time": "2024-10-09T06:52:45.767278Z"
    }
   },
   "source": [
    "import os\n",
    "import pickle\n",
    "\n",
    "from langchain_experimental.graph_transformers import LLMGraphTransformer\n",
    "\n",
    "from langchain_community.chat_models import ChatOllama\n",
    "\n",
    "from langchain_community.graphs import Neo4jGraph\n",
    "from dotenv import load_dotenv\n",
    "\n",
    "load_dotenv()"
   ],
   "outputs": [
    {
     "data": {
      "text/plain": [
       "True"
      ]
     },
     "execution_count": 1,
     "metadata": {},
     "output_type": "execute_result"
    }
   ],
   "execution_count": 1
  },
  {
   "metadata": {},
   "cell_type": "markdown",
   "source": "## Load Text ",
   "id": "23bc95f1551e63f4"
  },
  {
   "metadata": {},
   "cell_type": "code",
   "source": [
    "from langchain.text_splitter import RecursiveCharacterTextSplitter  # Split Document into Chunks\n",
    "from langchain_community.document_loaders import DirectoryLoader  # Load md files\n",
    "\n",
    "markdown_path = \"data/markdowns\"\n",
    "loader = DirectoryLoader(markdown_path, glob=\"*.md\")\n",
    "documents = loader.load()\n",
    "print(f\"Loaded {len(documents)} documents from {markdown_path}\")\n",
    "\n",
    "chunk_size = 750\n",
    "chunk_overlap = 100\n",
    "\n",
    "text_splitter = RecursiveCharacterTextSplitter(chunk_size=chunk_size, chunk_overlap=chunk_overlap,\n",
    "                                               length_function=len, add_start_index=True, keep_separator=False,\n",
    "                                               strip_whitespace=True)\n",
    "chunks = text_splitter.split_documents(documents)\n",
    "print(f\"Split {len(documents)} documents into {len(chunks)} chunks.\")\n",
    "\n",
    "document = chunks[10]\n",
    "print(document.page_content)\n",
    "print(document.metadata)"
   ],
   "id": "708e565a50ce9afa",
   "outputs": [],
   "execution_count": null
  },
  {
   "metadata": {},
   "cell_type": "markdown",
   "source": "## Create Graph Documents",
   "id": "61623a075b522d87"
  },
  {
   "metadata": {},
   "cell_type": "code",
   "outputs": [],
   "execution_count": null,
   "source": [
    "# llm = ChatGroq(model_name=\"llama3-groq-8b-8192-tool-use-preview\")\n",
    "llm = ChatOllama(\"llama3.1:70b\")\n",
    "llm_transformer = LLMGraphTransformer(llm=llm, allowed_nodes=[\"ALLOY\", \"ELEMENT\", \"PROPERTY_NAME\", \"PROPERTY_VALUE\"])"
   ],
   "id": "5b4b5c9243a345ef"
  },
  {
   "metadata": {},
   "cell_type": "code",
   "outputs": [],
   "execution_count": null,
   "source": [
    "graph_documents = llm_transformer.convert_to_graph_documents(chunks)\n",
    "graph_documents[0]"
   ],
   "id": "dfe0c64a201b30ae"
  },
  {
   "metadata": {},
   "cell_type": "markdown",
   "source": "## Save Graph Documents",
   "id": "ca7ebf3185708a3b"
  },
  {
   "metadata": {},
   "cell_type": "code",
   "outputs": [],
   "execution_count": null,
   "source": [
    "with open(\"Nodes.bin\", \"wb\") as f:  # Save graph_docs obj to file\n",
    "    pickle.dump(graph_documents, f)"
   ],
   "id": "1a123b681d9b522e"
  },
  {
   "metadata": {},
   "cell_type": "markdown",
   "source": "## Graph to Neo4j",
   "id": "8bcda047a529eacd"
  },
  {
   "metadata": {},
   "cell_type": "code",
   "outputs": [],
   "execution_count": null,
   "source": [
    "from neo4j import GraphDatabase\n",
    "from yfiles_jupyter_graphs import GraphWidget"
   ],
   "id": "48a902ed6ffadad8"
  },
  {
   "metadata": {},
   "cell_type": "code",
   "source": [
    "with open(\"graph_docs.bin\", \"rb\") as f:  # Load graph_docs from file\n",
    "    retrieved_graph_documents = pickle.load(f)"
   ],
   "id": "b3d76e16d09c5931",
   "outputs": [],
   "execution_count": null
  },
  {
   "metadata": {
    "ExecuteTime": {
     "end_time": "2024-09-05T15:10:55.475137Z",
     "start_time": "2024-09-05T15:10:33.106025Z"
    }
   },
   "cell_type": "code",
   "outputs": [],
   "execution_count": 9,
   "source": [
    "graph = Neo4jGraph()\n",
    "graph.add_graph_documents(\n",
    "    retrieved_graph_documents,\n",
    "    baseEntityLabel=True,\n",
    "    include_source=True\n",
    ")"
   ],
   "id": "f24c26a5675149f1"
  },
  {
   "metadata": {
    "ExecuteTime": {
     "end_time": "2024-09-05T15:23:37.276638Z",
     "start_time": "2024-09-05T15:23:36.832612Z"
    }
   },
   "cell_type": "code",
   "source": [
    "def showGraph():\n",
    "    driver = GraphDatabase.driver(\n",
    "        uri=os.environ[\"NEO4J_URI\"],\n",
    "        auth=(os.environ[\"NEO4J_USERNAME\"],\n",
    "              os.environ[\"NEO4J_PASSWORD\"]))\n",
    "    session = driver.session()\n",
    "    widget = GraphWidget(graph=session.run(\"MATCH (s)-[r:!MENTIONS]->(t) RETURN s,r,t\").graph())\n",
    "    widget.node_label_mapping = 'id'\n",
    "    return widget\n",
    "\n",
    "\n",
    "showGraph()"
   ],
   "id": "848d0f59d15d0c89",
   "outputs": [
    {
     "data": {
      "text/plain": [
       "GraphWidget(layout=Layout(height='800px', width='100%'))"
      ],
      "application/vnd.jupyter.widget-view+json": {
       "version_major": 2,
       "version_minor": 0,
       "model_id": "a94fe3062ff446568129d7892124a888"
      }
     },
     "metadata": {},
     "output_type": "display_data"
    }
   ],
   "execution_count": 3
  }
 ],
 "metadata": {
  "kernelspec": {
   "display_name": "Python 3",
   "language": "python",
   "name": "python3"
  },
  "language_info": {
   "codemirror_mode": {
    "name": "ipython",
    "version": 2
   },
   "file_extension": ".py",
   "mimetype": "text/x-python",
   "name": "python",
   "nbconvert_exporter": "python",
   "pygments_lexer": "ipython2",
   "version": "2.7.6"
  }
 },
 "nbformat": 4,
 "nbformat_minor": 5
}
