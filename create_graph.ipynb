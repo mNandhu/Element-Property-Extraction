{
 "cells": [
  {
   "metadata": {},
   "cell_type": "markdown",
   "source": "# Import Libraries",
   "id": "fa88875f35e3e129"
  },
  {
   "cell_type": "code",
   "id": "initial_id",
   "metadata": {
    "collapsed": true,
    "ExecuteTime": {
     "end_time": "2024-10-09T13:58:57.594676Z",
     "start_time": "2024-10-09T13:58:57.584916Z"
    }
   },
   "source": [
    "import pickle\n",
    "\n",
    "from groq import BadRequestError\n",
    "from langchain_core.prompts import ChatPromptTemplate\n",
    "from langchain_experimental.graph_transformers import LLMGraphTransformer\n",
    "from langchain_community.chat_models import ChatOllama\n",
    "from langchain_groq import ChatGroq\n",
    "from dotenv import load_dotenv\n",
    "\n",
    "load_dotenv()"
   ],
   "outputs": [
    {
     "data": {
      "text/plain": [
       "True"
      ]
     },
     "execution_count": 4,
     "metadata": {},
     "output_type": "execute_result"
    }
   ],
   "execution_count": 4
  },
  {
   "metadata": {},
   "cell_type": "markdown",
   "source": "## Load Text ",
   "id": "23bc95f1551e63f4"
  },
  {
   "metadata": {
    "ExecuteTime": {
     "end_time": "2024-10-09T13:59:00.843001Z",
     "start_time": "2024-10-09T13:59:00.146710Z"
    }
   },
   "cell_type": "code",
   "source": [
    "from langchain.text_splitter import RecursiveCharacterTextSplitter  # Split Document into Chunks\n",
    "from langchain_community.document_loaders import DirectoryLoader  # Load md files\n",
    "\n",
    "markdown_path = \"data/markdowns\"\n",
    "loader = DirectoryLoader(markdown_path, glob=\"*.md\")\n",
    "documents = loader.load()\n",
    "print(f\"Loaded {len(documents)} documents from {markdown_path}\")\n",
    "\n",
    "chunk_size = 1250\n",
    "chunk_overlap = 100\n",
    "\n",
    "text_splitter = RecursiveCharacterTextSplitter(chunk_size=chunk_size, chunk_overlap=chunk_overlap,\n",
    "                                               length_function=len, add_start_index=True, keep_separator=False,\n",
    "                                               strip_whitespace=True)\n",
    "chunks = text_splitter.split_documents(documents)\n",
    "print(f\"Split {len(documents)} documents into {len(chunks)} chunks.\")\n",
    "\n",
    "document = chunks[10]\n",
    "print(document.page_content)\n",
    "print(document.metadata)"
   ],
   "id": "708e565a50ce9afa",
   "outputs": [
    {
     "name": "stdout",
     "output_type": "stream",
     "text": [
      "Loaded 1 documents from data/markdowns\n",
      "Split 1 documents into 92 chunks.\n",
      "The vast majority of the studied to date hydrogen storage HEAs belong to the solid solution type alloys containing the components with a high affinity to hydrogen (Ti, Zr, Nb, Hf, Ta, V). These alloys form very stable hydrides and require inconveniently high temperatures, above 400°C, to release the absorbed H2 thus limiting application potential of their hydrides.\n",
      "\n",
      "Hydrogen storage HEAs also include totally different materials, namely AB5- [31] and AB2-type [28,34] intermetallics characterized by easily achievable and convenient operational P-T conditions allowing to reach a reversibility of the hydride formation and decomposition. In some specific cases hydrogen absorption, even being limited in the H storage capacity, proceeds also for the alloys which do not contain hydride-forming components [36]. In general, the reaction mechanism during the hydride formation by HEAs is not sufficiently well studied yet and needs to be better understood.\n",
      "{'source': 'data\\\\markdowns\\\\hydrogen_storage.md', 'start_index': 7608}\n"
     ]
    }
   ],
   "execution_count": 5
  },
  {
   "metadata": {},
   "cell_type": "markdown",
   "source": "## Create Graph Documents",
   "id": "61623a075b522d87"
  },
  {
   "metadata": {
    "ExecuteTime": {
     "end_time": "2024-10-09T14:05:02.415654Z",
     "start_time": "2024-10-09T14:05:01.771911Z"
    }
   },
   "cell_type": "code",
   "source": [
    "llm = ChatGroq(model_name=\"llama-3.1-70b-versatile\")\n",
    "# llm = ChatOllama(model_name=\"llama3.1:70b\")\n",
    "\n",
    "with open('extract_instruction.txt') as f:\n",
    "    extraction_instruction = ChatPromptTemplate(f.read())\n",
    "\n",
    "llm_transformer = LLMGraphTransformer(llm=llm, allowed_nodes=[\"ALLOY\", \"ELEMENT\", \"PROPERTY_NAME\", \"PROPERTY_VALUE\"],\n",
    "                                      strict_mode=True,\n",
    "                                      allowed_relationships=[\"HAS\", \"CONTAINS\", \"SIMILAR\", \"IS\", \"IS_A\", \"IS_PART_OF\",\n",
    "                                                             \"IS_USED_FOR\", \"IS_USED_IN\", \"IS_USED_WITH\", \"IS_USED_AS\",\n",
    "                                                             \"IS_USED_BY\", \"IS_USED_ON\", \"IS_USED_TO\", \"IS_USED_WITH\",\n",
    "                                                             \"IS_USED_WITHIN\", \"IS_USED_WITHOUT\", \"MEASURED_AT\",\n",
    "                                                             \"SYNTHESIZED_BY\", \"AFFECTS\", \"COMPARED_TO\"],\n",
    "                                      prompt=extraction_instruction)  # Relationships that elements can have"
   ],
   "id": "5b4b5c9243a345ef",
   "outputs": [],
   "execution_count": 17
  },
  {
   "metadata": {
    "ExecuteTime": {
     "end_time": "2024-10-09T14:39:48.173278Z",
     "start_time": "2024-10-09T14:21:06.679532Z"
    }
   },
   "cell_type": "code",
   "source": [
    "for i in range(5):\n",
    "    try:\n",
    "        graph_documents = llm_transformer.convert_to_graph_documents(chunks)\n",
    "    except KeyboardInterrupt:\n",
    "        print(\"Interrupted\")  # If interrupted, break loop\n",
    "        break\n",
    "    except:\n",
    "        print(f\"Failed to convert to graph documents\")\n",
    "        continue\n",
    "    else:\n",
    "        print(graph_documents[0])\n",
    "        break\n"
   ],
   "id": "dfe0c64a201b30ae",
   "outputs": [
    {
     "name": "stdout",
     "output_type": "stream",
     "text": [
      "Failed to convert to graph documents\n",
      "Failed to convert to graph documents\n",
      "Failed to convert to graph documents\n",
      "Failed to convert to graph documents\n",
      "Failed to convert to graph documents\n"
     ]
    }
   ],
   "execution_count": 19
  },
  {
   "metadata": {},
   "cell_type": "markdown",
   "source": "## Save Graph Documents",
   "id": "ca7ebf3185708a3b"
  },
  {
   "metadata": {
    "ExecuteTime": {
     "end_time": "2024-10-09T14:08:07.762102Z",
     "start_time": "2024-10-09T14:04:30.286605Z"
    }
   },
   "cell_type": "code",
   "source": [
    "with open(\"Nodes.bin\", \"wb\") as f:  # Save graph_docs obj to file\n",
    "    pickle.dump(graph_documents, f)"
   ],
   "id": "1a123b681d9b522e",
   "outputs": [
    {
     "ename": "NameError",
     "evalue": "name 'graph_documents' is not defined",
     "output_type": "error",
     "traceback": [
      "\u001B[1;31m---------------------------------------------------------------------------\u001B[0m",
      "\u001B[1;31mNameError\u001B[0m                                 Traceback (most recent call last)",
      "Cell \u001B[1;32mIn[16], line 2\u001B[0m\n\u001B[0;32m      1\u001B[0m \u001B[38;5;28;01mwith\u001B[39;00m \u001B[38;5;28mopen\u001B[39m(\u001B[38;5;124m\"\u001B[39m\u001B[38;5;124mNodes.bin\u001B[39m\u001B[38;5;124m\"\u001B[39m, \u001B[38;5;124m\"\u001B[39m\u001B[38;5;124mwb\u001B[39m\u001B[38;5;124m\"\u001B[39m) \u001B[38;5;28;01mas\u001B[39;00m f:  \u001B[38;5;66;03m# Save graph_docs obj to file\u001B[39;00m\n\u001B[1;32m----> 2\u001B[0m     pickle\u001B[38;5;241m.\u001B[39mdump(\u001B[43mgraph_documents\u001B[49m, f)\n",
      "\u001B[1;31mNameError\u001B[0m: name 'graph_documents' is not defined"
     ]
    }
   ],
   "execution_count": 16
  },
  {
   "metadata": {},
   "cell_type": "markdown",
   "source": "## Graph to Neo4j",
   "id": "8bcda047a529eacd"
  },
  {
   "metadata": {
    "ExecuteTime": {
     "end_time": "2024-10-09T13:12:20.975462Z",
     "start_time": "2024-10-09T13:12:20.936124Z"
    }
   },
   "cell_type": "code",
   "source": [
    "from neo4j import GraphDatabase\n",
    "from yfiles_jupyter_graphs import GraphWidget\n",
    "from langchain_community.graphs import Neo4jGraph\n",
    "import os\n",
    "from dotenv import load_dotenv\n",
    "\n",
    "load_dotenv()"
   ],
   "id": "48a902ed6ffadad8",
   "outputs": [
    {
     "data": {
      "text/plain": [
       "True"
      ]
     },
     "execution_count": 6,
     "metadata": {},
     "output_type": "execute_result"
    }
   ],
   "execution_count": 6
  },
  {
   "metadata": {
    "ExecuteTime": {
     "end_time": "2024-10-09T08:23:10.506524Z",
     "start_time": "2024-10-09T08:23:10.459832Z"
    }
   },
   "cell_type": "code",
   "source": [
    "with open(\"Nodes.bin\", \"rb\") as f:  # Load graph_docs from file\n",
    "    retrieved_graph_documents = pickle.load(f)"
   ],
   "id": "b3d76e16d09c5931",
   "outputs": [],
   "execution_count": 20
  },
  {
   "metadata": {
    "ExecuteTime": {
     "end_time": "2024-10-09T08:30:51.169935Z",
     "start_time": "2024-10-09T08:30:43.509028Z"
    }
   },
   "cell_type": "code",
   "source": [
    "graph = Neo4jGraph()\n",
    "graph.add_graph_documents(\n",
    "    retrieved_graph_documents,\n",
    "    baseEntityLabel=True,\n",
    "    include_source=True\n",
    ")"
   ],
   "id": "f24c26a5675149f1",
   "outputs": [],
   "execution_count": 26
  },
  {
   "metadata": {
    "ExecuteTime": {
     "end_time": "2024-10-09T13:13:59.635905Z",
     "start_time": "2024-10-09T13:13:55.714962Z"
    }
   },
   "cell_type": "code",
   "source": [
    "def showGraph():\n",
    "    driver = GraphDatabase.driver(\n",
    "        uri=os.environ[\"NEO4J_URI\"],\n",
    "        auth=(os.environ[\"NEO4J_USERNAME\"],\n",
    "              os.environ[\"NEO4J_PASSWORD\"]))\n",
    "    session = driver.session()\n",
    "    widget = GraphWidget(graph=session.run(\"MATCH (s)-[r:!MENTIONS]->(t) RETURN s,r,t\").graph())\n",
    "    widget.node_label_mapping = 'id'\n",
    "    return widget\n",
    "\n",
    "\n",
    "showGraph()"
   ],
   "id": "848d0f59d15d0c89",
   "outputs": [
    {
     "data": {
      "text/plain": [
       "GraphWidget(layout=Layout(height='800px', width='100%'))"
      ],
      "application/vnd.jupyter.widget-view+json": {
       "version_major": 2,
       "version_minor": 0,
       "model_id": "4b589aa80b104118b25a0385a64fe873"
      }
     },
     "metadata": {},
     "output_type": "display_data"
    }
   ],
   "execution_count": 9
  }
 ],
 "metadata": {
  "kernelspec": {
   "display_name": "Python 3",
   "language": "python",
   "name": "python3"
  },
  "language_info": {
   "codemirror_mode": {
    "name": "ipython",
    "version": 2
   },
   "file_extension": ".py",
   "mimetype": "text/x-python",
   "name": "python",
   "nbconvert_exporter": "python",
   "pygments_lexer": "ipython2",
   "version": "2.7.6"
  }
 },
 "nbformat": 4,
 "nbformat_minor": 5
}
